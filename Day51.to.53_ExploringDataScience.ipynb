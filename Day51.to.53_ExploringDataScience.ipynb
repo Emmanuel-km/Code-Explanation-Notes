{
 "cells": [
  {
   "cell_type": "markdown",
   "id": "97e526fb",
   "metadata": {},
   "source": [
    "# MOVIE RATINGS,PROGRESS AND MORE"
   ]
  },
  {
   "cell_type": "markdown",
   "id": "fc51df48",
   "metadata": {},
   "source": [
    "##### Imports"
   ]
  },
  {
   "cell_type": "code",
   "execution_count": 1,
   "id": "a3c4da46",
   "metadata": {},
   "outputs": [],
   "source": [
    "import pandas as pd\n",
    "import seaborn as sns\n",
    "import matplotlib.pyplot as plt\n",
    "import numpy as np"
   ]
  },
  {
   "cell_type": "markdown",
   "id": "467c34f3",
   "metadata": {},
   "source": [
    "##### Data creation"
   ]
  },
  {
   "cell_type": "code",
   "execution_count": 2,
   "id": "4cb221da",
   "metadata": {},
   "outputs": [
    {
     "name": "stdout",
     "output_type": "stream",
     "text": [
      "Dataset Shape: (1000, 9)\n",
      "\n",
      "First 5 rows:\n",
      "     title  year   genre    rating     budget       revenue  runtime  \\\n",
      "0  Movie_0  2018  Sci-Fi  4.146000  126000000  4.460000e+08      106   \n",
      "1  Movie_1  2004  Horror  7.798164  123000000  4.981639e+08      133   \n",
      "2  Movie_2  1997   Drama  4.945000   47000000  1.450000e+08      145   \n",
      "3  Movie_3  2010   Drama  3.698416  118000000  3.984162e+08      128   \n",
      "4  Movie_4  2008  Action  7.347000   39000000  2.470000e+08       95   \n",
      "\n",
      "  production_company   votes  \n",
      "0        Warner Bros  213204  \n",
      "1        Warner Bros  251694  \n",
      "2               Sony  250836  \n",
      "3               Sony  759849  \n",
      "4          Paramount  886829  \n",
      "\n",
      "Dataset Info:\n",
      "<class 'pandas.core.frame.DataFrame'>\n",
      "RangeIndex: 1000 entries, 0 to 999\n",
      "Data columns (total 9 columns):\n",
      " #   Column              Non-Null Count  Dtype  \n",
      "---  ------              --------------  -----  \n",
      " 0   title               1000 non-null   object \n",
      " 1   year                1000 non-null   int32  \n",
      " 2   genre               1000 non-null   object \n",
      " 3   rating              1000 non-null   float64\n",
      " 4   budget              1000 non-null   int32  \n",
      " 5   revenue             1000 non-null   float64\n",
      " 6   runtime             1000 non-null   int32  \n",
      " 7   production_company  1000 non-null   object \n",
      " 8   votes               1000 non-null   int32  \n",
      "dtypes: float64(2), int32(4), object(3)\n",
      "memory usage: 54.8+ KB\n",
      "None\n",
      "\n",
      "Basic Statistics:\n",
      "              year       rating        budget       revenue      runtime  \\\n",
      "count  1000.000000  1000.000000  1.000000e+03  1.000000e+03  1000.000000   \n",
      "mean   2006.370000     6.895907  1.016240e+08  3.729776e+08   129.769000   \n",
      "std       9.820873     1.474838  5.628494e+07  1.727352e+08    28.828991   \n",
      "min    1990.000000     2.412000  1.000000e+06  2.054887e+07    80.000000   \n",
      "25%    1998.000000     5.937659  5.600000e+07  2.470924e+08   104.750000   \n",
      "50%    2007.000000     6.889305  1.015000e+08  3.682039e+08   129.000000   \n",
      "75%    2015.000000     7.885282  1.502500e+08  4.695054e+08   156.000000   \n",
      "max    2022.000000    10.000000  1.990000e+08  9.370416e+08   179.000000   \n",
      "\n",
      "               votes  \n",
      "count    1000.000000  \n",
      "mean   503786.290000  \n",
      "std    291618.497329  \n",
      "min      1727.000000  \n",
      "25%    250471.750000  \n",
      "50%    497937.500000  \n",
      "75%    759296.500000  \n",
      "max    999722.000000  \n"
     ]
    }
   ],
   "source": [
    "\n",
    "def create_sample_movie_data():\n",
    "    np.random.seed(42)\n",
    "    n = 1000\n",
    "    \n",
    "    data = {\n",
    "        'title': [f'Movie_{i}' for i in range(n)],\n",
    "        'year': np.random.randint(1990, 2023, n),\n",
    "        'genre': np.random.choice(['Action', 'Comedy', 'Drama', 'Horror', 'Sci-Fi', 'Romance'], n),\n",
    "        'rating': np.round(np.random.normal(6.5, 1.5, n), 1),\n",
    "        'budget': np.random.randint(1, 200, n) * 1000000,\n",
    "        'revenue': np.random.randint(1, 500, n) * 1000000,\n",
    "        'runtime': np.random.randint(80, 180, n),\n",
    "        'production_company': np.random.choice(['Warner Bros', 'Disney', 'Universal', 'Paramount', 'Sony'], n),\n",
    "        'votes': np.random.randint(1000, 1000000, n)\n",
    "    }\n",
    "    \n",
    "    # Ensure revenue is generally higher than budget\n",
    "    data['revenue'] = np.maximum(data['revenue'], data['budget'] * np.random.uniform(0.5, 5, n))\n",
    "    \n",
    "    # Create some correlation between rating and revenue\n",
    "    data['rating'] = np.clip(data['rating'] + (data['revenue'] / 100000000) * 0.1, 1, 10)\n",
    "    \n",
    "    return pd.DataFrame(data)\n",
    "\n",
    "# Load data\n",
    "df = create_sample_movie_data()\n",
    "\n",
    "# Basic exploration\n",
    "print(\"Dataset Shape:\", df.shape)\n",
    "print(\"\\nFirst 5 rows:\")\n",
    "print(df.head())\n",
    "print(\"\\nDataset Info:\")\n",
    "print(df.info())\n",
    "print(\"\\nBasic Statistics:\")\n",
    "print(df.describe())"
   ]
  },
  {
   "cell_type": "markdown",
   "id": "75c63559",
   "metadata": {},
   "source": [
    "#### Data cleaning"
   ]
  },
  {
   "cell_type": "code",
   "execution_count": 3,
   "id": "31731c44",
   "metadata": {},
   "outputs": [
    {
     "name": "stdout",
     "output_type": "stream",
     "text": [
      "Missing values:\n",
      "title                 0\n",
      "year                  0\n",
      "genre                 0\n",
      "rating                0\n",
      "budget                0\n",
      "revenue               0\n",
      "runtime               0\n",
      "production_company    0\n",
      "votes                 0\n",
      "dtype: int64\n",
      "\n",
      "Data after feature engineering:\n",
      "       budget_millions  revenue_millions  profit_millions  profit_margin  \\\n",
      "count      1000.000000       1000.000000      1000.000000    1000.000000   \n",
      "mean        101.624000        372.977561       271.353561      69.630465   \n",
      "std          56.284941        172.735231       149.152577      20.414774   \n",
      "min           1.000000         20.548868       -81.000000     -83.505155   \n",
      "25%          56.000000        247.092357       160.986545      62.512959   \n",
      "50%         101.500000        368.203875       269.248400      74.451890   \n",
      "75%         150.250000        469.505413       363.000000      80.090145   \n",
      "max         199.000000        937.041648       748.041648      99.776286   \n",
      "\n",
      "                roi  \n",
      "count   1000.000000  \n",
      "mean     626.514574  \n",
      "std     2039.293580  \n",
      "min      -45.505618  \n",
      "25%      166.758953  \n",
      "50%      291.418407  \n",
      "75%      402.265212  \n",
      "max    44600.000000  \n"
     ]
    }
   ],
   "source": [
    "# Check for missing values\n",
    "print(\"Missing values:\")\n",
    "print(df.isnull().sum())\n",
    "\n",
    "# Create additional useful columns\n",
    "df['profit'] = df['revenue'] - df['budget']\n",
    "df['profit_margin'] = (df['profit'] / df['revenue']) * 100\n",
    "df['roi'] = (df['profit'] / df['budget']) * 100\n",
    "\n",
    "# Convert to millions for easier reading\n",
    "df['budget_millions'] = df['budget'] / 1000000\n",
    "df['revenue_millions'] = df['revenue'] / 1000000\n",
    "df['profit_millions'] = df['profit'] / 1000000\n",
    "\n",
    "print(\"\\nData after feature engineering:\")\n",
    "print(df[['budget_millions', 'revenue_millions', 'profit_millions', 'profit_margin', 'roi']].describe())"
   ]
  }
 ],
 "metadata": {
  "kernelspec": {
   "display_name": "Python 3",
   "language": "python",
   "name": "python3"
  },
  "language_info": {
   "codemirror_mode": {
    "name": "ipython",
    "version": 3
   },
   "file_extension": ".py",
   "mimetype": "text/x-python",
   "name": "python",
   "nbconvert_exporter": "python",
   "pygments_lexer": "ipython3",
   "version": "3.13.9"
  }
 },
 "nbformat": 4,
 "nbformat_minor": 5
}
