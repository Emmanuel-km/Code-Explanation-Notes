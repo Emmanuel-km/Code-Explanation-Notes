{
 "cells": [
  {
   "cell_type": "code",
   "execution_count": null,
   "id": "041acad2",
   "metadata": {},
   "outputs": [],
   "source": [
    "import matplotlib.pyplot as plt\n",
    "import pandas as pd\n",
    "data=pd.read_csv('homeData.csv')\n",
    "\n",
    "plot(x ='Average_Pulse', y='Calorie_Burnage', kind='line'),\n",
    "plt.ylim(ymin=0, ymax=400)\n",
    "plt.xlim(xmin=0, xmax=150)\n",
    "\n",
    "plt.show()"
   ]
  }
 ],
 "metadata": {
  "kernelspec": {
   "display_name": "Python 3",
   "language": "python",
   "name": "python3"
  },
  "language_info": {
   "name": "python",
   "version": "3.13.9"
  }
 },
 "nbformat": 4,
 "nbformat_minor": 5
}
