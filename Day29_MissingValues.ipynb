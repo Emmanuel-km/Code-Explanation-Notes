{
 "cells": [
  {
   "cell_type": "code",
   "execution_count": null,
   "id": "1c9b14fa",
   "metadata": {},
   "outputs": [],
   "source": [
    "'''  \n",
    "handling missing values\n",
    "\n",
    "\n",
    "'''\n",
    "\n",
    "#there are 3 types of missing values\n",
    "\n",
    "'''\n",
    "1.MCAR - missing completely at random\n",
    "this is like missing a value in a large dataset\n",
    "\n",
    "2.MAR - missing at random\n",
    "this is like missing group of values in a large dataset\n",
    "\n",
    "3.MNAR - missing not at random\n",
    "this occurs when missing data resons is unkown to us\n",
    "can heavily affect the results \n",
    "\n",
    "'''"
   ]
  }
 ],
 "metadata": {
  "kernelspec": {
   "display_name": "Python 3",
   "language": "python",
   "name": "python3"
  },
  "language_info": {
   "name": "python",
   "version": "3.13.7"
  }
 },
 "nbformat": 4,
 "nbformat_minor": 5
}
