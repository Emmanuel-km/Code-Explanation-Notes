{
 "cells": [
  {
   "cell_type": "markdown",
   "id": "95df3244",
   "metadata": {},
   "source": [
    "SQL-Standard Query Language"
   ]
  }
 ],
 "metadata": {
  "language_info": {
   "name": "python"
  }
 },
 "nbformat": 4,
 "nbformat_minor": 5
}
