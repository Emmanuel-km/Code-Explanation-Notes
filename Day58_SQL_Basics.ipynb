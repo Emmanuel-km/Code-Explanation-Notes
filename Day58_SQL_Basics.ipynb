{
 "cells": [
  {
   "cell_type": "markdown",
   "id": "95df3244",
   "metadata": {},
   "source": [
    "SQL-Standard Query Language"
   ]
  },
  {
   "cell_type": "markdown",
   "id": "b20c31fa",
   "metadata": {},
   "source": [
    "This language is used as form of communication from the database to desired destination. Even in the database itself!"
   ]
  }
 ],
 "metadata": {
  "language_info": {
   "name": "python"
  }
 },
 "nbformat": 4,
 "nbformat_minor": 5
}
